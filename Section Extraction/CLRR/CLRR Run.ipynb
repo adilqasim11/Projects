{
 "cells": [
  {
   "cell_type": "markdown",
   "id": "412e45f1",
   "metadata": {},
   "source": [
    "# 1) Import libraries"
   ]
  },
  {
   "cell_type": "code",
   "execution_count": 33,
   "id": "92c54dca",
   "metadata": {},
   "outputs": [],
   "source": [
    "import re  # # Importing the 're' module for regular expressions\n",
    "import os  # Importing the os module for operating system related tasks\n",
    "import pandas as pd  # Importing the pandas library for data manipulation\n",
    "from PDFDataExtractor import PDFDataExtractor  # Importing the PDFDataExtractor class from the PdfDataExtractor module\n"
   ]
  },
  {
   "cell_type": "markdown",
   "id": "fbb20210",
   "metadata": {},
   "source": [
    "# 2) Data Extraction"
   ]
  },
  {
   "cell_type": "code",
   "execution_count": 35,
   "id": "0ae967ed",
   "metadata": {},
   "outputs": [
    {
     "name": "stdout",
     "output_type": "stream",
     "text": [
      "Data written to /Users/adilqasin/Documents/Munib Projects/1 project/output/tem.xlsx\n"
     ]
    }
   ],
   "source": [
    "def extract_data_from_pdf_files(folder_path, output_folder, output_file):\n",
    "    \"\"\"\n",
    "    Extract data from PDF files in the given folder and save it to an Excel file.\n",
    "\n",
    "    Parameters:\n",
    "    - folder_path (str): The path to the folder containing the PDF files.\n",
    "    - output_folder (str): The path to the output folder.\n",
    "    - output_file (str): The name of the output Excel file.\n",
    "\n",
    "    \"\"\"\n",
    "    df_list = []\n",
    "\n",
    "    # Iterate over the PDF files in the folder\n",
    "    for file_name in os.listdir(folder_path):\n",
    "        if file_name.endswith('.pdf'):\n",
    "            file_path = os.path.join(folder_path, file_name)\n",
    "            \n",
    "            # Create an instance of the PdfDataExtractor class with the PDF file path\n",
    "            pdf_extractor = PDFDataExtractor(file_path)\n",
    "\n",
    "            # Extract the country name\n",
    "            country_name = pdf_extractor.extract_country_name()\n",
    "\n",
    "            # Extract the date\n",
    "            date = pdf_extractor.extract_date()\n",
    "\n",
    "            # Extract the fiscal year\n",
    "            fiscal_year = pdf_extractor.extract_fiscal_year()\n",
    "\n",
    "            # Extract the WBG performance text\n",
    "            WBG_performance_text = pdf_extractor.extract_WBG_performance()\n",
    "            \n",
    "            # Extract the development outcome text\n",
    "            development_outcome_text = pdf_extractor.extract_development_outcome()\n",
    "            \n",
    "            # Extract the lessons text\n",
    "            lessons_text = pdf_extractor.extract_lessons()\n",
    "\n",
    "            # Extract the executive summary text\n",
    "            summary_text = pdf_extractor.extract_executive_summary()\n",
    "\n",
    "            # Extract the overall assessment and ratings text\n",
    "            assessment_text = pdf_extractor.extract_overall_assessment()\n",
    "\n",
    "            # Extract the strategic focus text\n",
    "            strategic_text = pdf_extractor.extract_strategic_focus()\n",
    "\n",
    "            \n",
    "            # Extract the desired data\n",
    "            assessment_CLR_text = pdf_extractor.extract_assessment_clr()\n",
    "            # Additional data extraction can be added here\n",
    "            # Extract the first paragraph from the assessment CLR text\n",
    "            paragraphs = re.split(r'\\n\\n+', assessment_CLR_text)\n",
    "            first_paragraph = paragraphs[0]\n",
    "            \n",
    "            # Create a DataFrame with the extracted data\n",
    "            df = pd.DataFrame({\n",
    "                'Country': [country_name],\n",
    "                'Date': [date],\n",
    "                'Fiscal Year': [fiscal_year],\n",
    "                'Executive Summary Section': [summary_text],\n",
    "                'Strategic Focus section': [strategic_text],\n",
    "                'Development Outcome Section': [development_outcome_text],\n",
    "                'WBG Performance Section Section': [WBG_performance_text],\n",
    "                'Assessment of CLR Section': [first_paragraph],\n",
    "                'Findings and Lessons Section': [lessons_text],\n",
    "                'Assessment and Ratings Section': [assessment_text]\n",
    "               })\n",
    "\n",
    "            df_list.append(df)\n",
    "\n",
    "            # Close the PdfDataExtractor instance\n",
    "            pdf_extractor.close()\n",
    "\n",
    "    # Concatenate all the DataFrames into a single DataFrame\n",
    "    df_combined = pd.concat(df_list)\n",
    "\n",
    "    # Create the output folder if it doesn't exist\n",
    "    os.makedirs(output_folder, exist_ok=True)\n",
    "\n",
    "    # Write the combined DataFrame to an Excel file in the output folder\n",
    "    output_path = os.path.join(output_folder, output_file)\n",
    "    df_combined.to_excel(output_path, index=False)\n",
    "\n",
    "    print(f'Data written to {output_path}')\n",
    "\n",
    "\n",
    "# Example usage\n",
    "folder_path = '/Users/adilqasin/Documents/Munib Projects/1 project/new' # Provide PDF folder path \n",
    "output_folder = '/Users/adilqasin/Documents/Munib Projects/1 project/output' # Provide path to the output folder\n",
    "output_file = \"tem.xlsx\" # output file name\n",
    "extract_data_from_pdf_files(folder_path, output_folder, output_file)"
   ]
  },
  {
   "cell_type": "markdown",
   "id": "79de2d5f",
   "metadata": {},
   "source": [
    "# Comments \n",
    "\n",
    "Please make sure PDFDataExtractor.py is in the same directory as this main code "
   ]
  },
  {
   "cell_type": "code",
   "execution_count": null,
   "id": "abd274c7",
   "metadata": {},
   "outputs": [],
   "source": []
  }
 ],
 "metadata": {
  "kernelspec": {
   "display_name": "Python 3 (ipykernel)",
   "language": "python",
   "name": "python3"
  },
  "language_info": {
   "codemirror_mode": {
    "name": "ipython",
    "version": 3
   },
   "file_extension": ".py",
   "mimetype": "text/x-python",
   "name": "python",
   "nbconvert_exporter": "python",
   "pygments_lexer": "ipython3",
   "version": "3.9.13"
  }
 },
 "nbformat": 4,
 "nbformat_minor": 5
}
